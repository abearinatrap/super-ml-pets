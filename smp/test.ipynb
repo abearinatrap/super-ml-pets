{
 "cells": [
  {
   "cell_type": "code",
   "execution_count": null,
   "metadata": {},
   "outputs": [],
   "source": [
    "from sb3_contrib import MaskablePPO\n",
    "from sb3_contrib.common.envs import InvalidActionEnvDiscrete\n",
    "from sapai_gym import SuperAutoPetsEnv\n",
    "from sb3_contrib.common.maskable.evaluation import evaluate_policy\n",
    "from sb3_contrib.common.maskable.utils import get_action_masks\n",
    "from sapai_gym.opponent_gen.opponent_generators import random_opp_generator, biggest_numbers_horizontal_opp_generator\n",
    "from sapai_gym.ai import baselines\n",
    "from sapai import *\n",
    "from sapai.shop import *\n",
    "import logging as log\n",
    "from .utils import opponent_generator, get_screen_scale, kill_process"
   ]
  },
  {
   "cell_type": "code",
   "execution_count": null,
   "metadata": {},
   "outputs": [],
   "source": [
    "MODEL_FILE1 = \"../\""
   ]
  },
  {
   "cell_type": "code",
   "execution_count": null,
   "metadata": {},
   "outputs": [],
   "source": [
    "model1 = MaskablePPO.load(MODEL_FILE1, custom_objects=custom_objects)\n",
    "env1 = SuperAutoPetsEnv(opponent_generator, valid_actions_only=True)\n",
    "obs1 = env1.reset()\n"
   ]
  }
 ],
 "metadata": {
  "language_info": {
   "name": "python"
  }
 },
 "nbformat": 4,
 "nbformat_minor": 2
}
